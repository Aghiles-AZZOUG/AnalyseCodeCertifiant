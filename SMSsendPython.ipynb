{
  "nbformat": 4,
  "nbformat_minor": 0,
  "metadata": {
    "colab": {
      "name": "Untitled1.ipynb",
      "provenance": [],
      "collapsed_sections": [],
      "include_colab_link": true
    },
    "kernelspec": {
      "name": "python3",
      "display_name": "Python 3"
    }
  },
  "cells": [
    {
      "cell_type": "markdown",
      "metadata": {
        "id": "view-in-github",
        "colab_type": "text"
      },
      "source": [
        "<a href=\"https://colab.research.google.com/github/Aghiles-AZZOUG/AnalyseCodeCertifiant/blob/main/SMSsendPython.ipynb\" target=\"_parent\"><img src=\"https://colab.research.google.com/assets/colab-badge.svg\" alt=\"Open In Colab\"/></a>"
      ]
    },
    {
      "cell_type": "code",
      "metadata": {
        "id": "EQHVF77nVDgZ",
        "colab": {
          "base_uri": "https://localhost:8080/",
          "height": 363
        },
        "outputId": "f06de11a-f663-4a9a-c92b-421750e3bba7"
      },
      "source": [
        "pip install twilio"
      ],
      "execution_count": null,
      "outputs": [
        {
          "output_type": "stream",
          "text": [
            "Collecting twilio\n",
            "\u001b[?25l  Downloading https://files.pythonhosted.org/packages/41/32/1f42939bc0edbe59d65fca4b746258a9d10cc6f237a6237d63c9c750e7e3/twilio-6.46.0.tar.gz (459kB)\n",
            "\r\u001b[K     |▊                               | 10kB 16.7MB/s eta 0:00:01\r\u001b[K     |█▍                              | 20kB 1.6MB/s eta 0:00:01\r\u001b[K     |██▏                             | 30kB 1.9MB/s eta 0:00:01\r\u001b[K     |██▉                             | 40kB 2.2MB/s eta 0:00:01\r\u001b[K     |███▋                            | 51kB 2.0MB/s eta 0:00:01\r\u001b[K     |████▎                           | 61kB 2.2MB/s eta 0:00:01\r\u001b[K     |█████                           | 71kB 2.4MB/s eta 0:00:01\r\u001b[K     |█████▊                          | 81kB 2.6MB/s eta 0:00:01\r\u001b[K     |██████▍                         | 92kB 2.8MB/s eta 0:00:01\r\u001b[K     |███████▏                        | 102kB 2.7MB/s eta 0:00:01\r\u001b[K     |███████▉                        | 112kB 2.7MB/s eta 0:00:01\r\u001b[K     |████████▋                       | 122kB 2.7MB/s eta 0:00:01\r\u001b[K     |█████████▎                      | 133kB 2.7MB/s eta 0:00:01\r\u001b[K     |██████████                      | 143kB 2.7MB/s eta 0:00:01\r\u001b[K     |██████████▊                     | 153kB 2.7MB/s eta 0:00:01\r\u001b[K     |███████████▍                    | 163kB 2.7MB/s eta 0:00:01\r\u001b[K     |████████████▏                   | 174kB 2.7MB/s eta 0:00:01\r\u001b[K     |████████████▉                   | 184kB 2.7MB/s eta 0:00:01\r\u001b[K     |█████████████▌                  | 194kB 2.7MB/s eta 0:00:01\r\u001b[K     |██████████████▎                 | 204kB 2.7MB/s eta 0:00:01\r\u001b[K     |███████████████                 | 215kB 2.7MB/s eta 0:00:01\r\u001b[K     |███████████████▊                | 225kB 2.7MB/s eta 0:00:01\r\u001b[K     |████████████████▍               | 235kB 2.7MB/s eta 0:00:01\r\u001b[K     |█████████████████▏              | 245kB 2.7MB/s eta 0:00:01\r\u001b[K     |█████████████████▉              | 256kB 2.7MB/s eta 0:00:01\r\u001b[K     |██████████████████▌             | 266kB 2.7MB/s eta 0:00:01\r\u001b[K     |███████████████████▎            | 276kB 2.7MB/s eta 0:00:01\r\u001b[K     |████████████████████            | 286kB 2.7MB/s eta 0:00:01\r\u001b[K     |████████████████████▊           | 296kB 2.7MB/s eta 0:00:01\r\u001b[K     |█████████████████████▍          | 307kB 2.7MB/s eta 0:00:01\r\u001b[K     |██████████████████████▏         | 317kB 2.7MB/s eta 0:00:01\r\u001b[K     |██████████████████████▉         | 327kB 2.7MB/s eta 0:00:01\r\u001b[K     |███████████████████████▌        | 337kB 2.7MB/s eta 0:00:01\r\u001b[K     |████████████████████████▎       | 348kB 2.7MB/s eta 0:00:01\r\u001b[K     |█████████████████████████       | 358kB 2.7MB/s eta 0:00:01\r\u001b[K     |█████████████████████████▊      | 368kB 2.7MB/s eta 0:00:01\r\u001b[K     |██████████████████████████▍     | 378kB 2.7MB/s eta 0:00:01\r\u001b[K     |███████████████████████████     | 389kB 2.7MB/s eta 0:00:01\r\u001b[K     |███████████████████████████▉    | 399kB 2.7MB/s eta 0:00:01\r\u001b[K     |████████████████████████████▌   | 409kB 2.7MB/s eta 0:00:01\r\u001b[K     |█████████████████████████████▎  | 419kB 2.7MB/s eta 0:00:01\r\u001b[K     |██████████████████████████████  | 430kB 2.7MB/s eta 0:00:01\r\u001b[K     |██████████████████████████████▊ | 440kB 2.7MB/s eta 0:00:01\r\u001b[K     |███████████████████████████████▍| 450kB 2.7MB/s eta 0:00:01\r\u001b[K     |████████████████████████████████| 460kB 2.7MB/s \n",
            "\u001b[?25hRequirement already satisfied: six in /usr/local/lib/python3.6/dist-packages (from twilio) (1.15.0)\n",
            "Requirement already satisfied: pytz in /usr/local/lib/python3.6/dist-packages (from twilio) (2018.9)\n",
            "Collecting PyJWT>=1.4.2\n",
            "  Downloading https://files.pythonhosted.org/packages/87/8b/6a9f14b5f781697e51259d81657e6048fd31a113229cf346880bb7545565/PyJWT-1.7.1-py2.py3-none-any.whl\n",
            "Requirement already satisfied: requests>=2.0.0 in /usr/local/lib/python3.6/dist-packages (from twilio) (2.23.0)\n",
            "Requirement already satisfied: urllib3!=1.25.0,!=1.25.1,<1.26,>=1.21.1 in /usr/local/lib/python3.6/dist-packages (from requests>=2.0.0->twilio) (1.24.3)\n",
            "Requirement already satisfied: certifi>=2017.4.17 in /usr/local/lib/python3.6/dist-packages (from requests>=2.0.0->twilio) (2020.6.20)\n",
            "Requirement already satisfied: chardet<4,>=3.0.2 in /usr/local/lib/python3.6/dist-packages (from requests>=2.0.0->twilio) (3.0.4)\n",
            "Requirement already satisfied: idna<3,>=2.5 in /usr/local/lib/python3.6/dist-packages (from requests>=2.0.0->twilio) (2.10)\n",
            "Building wheels for collected packages: twilio\n",
            "  Building wheel for twilio (setup.py) ... \u001b[?25l\u001b[?25hdone\n",
            "  Created wheel for twilio: filename=twilio-6.46.0-py2.py3-none-any.whl size=1213591 sha256=4138ab3b00e5bb92f3338162c546c113d4574f1539abcc596669ff797e268489\n",
            "  Stored in directory: /root/.cache/pip/wheels/12/8d/ff/55e7cdb44da8bc9b69e4a091a6f0b260bd3ab1e279f9cf271e\n",
            "Successfully built twilio\n",
            "Installing collected packages: PyJWT, twilio\n",
            "Successfully installed PyJWT-1.7.1 twilio-6.46.0\n"
          ],
          "name": "stdout"
        }
      ]
    },
    {
      "cell_type": "code",
      "metadata": {
        "id": "eesZb9_9VKgG",
        "colab": {
          "base_uri": "https://localhost:8080/",
          "height": 34
        },
        "outputId": "1fb97e46-462b-4943-8f5a-a0622df36bb1"
      },
      "source": [
        "from twilio.rest import Client\n",
        " \n",
        "sid = \"AC90052356a7dba52c3b9e1cf6dbae1b8c\"\n",
        "token = \"737d9d07f86ca1400f6d745dffc17386\"\n",
        " \n",
        "client = Client(sid, token)\n",
        " \n",
        "message = client.messages.create(\n",
        "    to = \"+91xxxxxxxxxx\", # put your registered twilio number here\n",
        "    from_ = \"+16506003389\",\n",
        "    body = \"Twilio testing Hello world.....\"\n",
        ")\n",
        " \n",
        "print(message.sid)"
      ],
      "execution_count": null,
      "outputs": [
        {
          "output_type": "stream",
          "text": [
            "SM28174e79c9b64487914e96bd6dfae88a\n"
          ],
          "name": "stdout"
        }
      ]
    }
  ]
}